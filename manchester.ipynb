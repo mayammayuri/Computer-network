{
 "metadata": {
  "language_info": {
   "codemirror_mode": {
    "name": "ipython",
    "version": 3
   },
   "file_extension": ".py",
   "mimetype": "text/x-python",
   "name": "python",
   "nbconvert_exporter": "python",
   "pygments_lexer": "ipython3",
   "version": "3.8.3-final"
  },
  "orig_nbformat": 2,
  "kernelspec": {
   "name": "python_defaultSpec_1598849022338",
   "display_name": "Python 3.8.3 64-bit"
  }
 },
 "nbformat": 4,
 "nbformat_minor": 2,
 "cells": [
  {
   "cell_type": "code",
   "execution_count": 1,
   "metadata": {},
   "outputs": [],
   "source": [
    "import numpy as np \n",
    "import matplotlib.pyplot as plt \n"
   ]
  },
  {
   "cell_type": "code",
   "execution_count": null,
   "metadata": {},
   "outputs": [],
   "source": [
    "seq=int(input(\"Enter the binary sequence\"))\n",
    "for i in seq:\n",
    "    if i==\"0\":\n",
    "        \n"
   ]
  },
  {
   "cell_type": "code",
   "execution_count": 133,
   "metadata": {
    "tags": []
   },
   "outputs": [
    {
     "output_type": "stream",
     "name": "stdout",
     "text": "[True, False, True, True] data is\nyes 0\nFalse approved\n[ True False  True False]  ignore this false\nTrue approved\ninvereted 2 True of  False\n[ True False  True False False  True]  ignore this truw\nTrue approved\ninvereted 3 False of  True\n[ True False  True False False  True  True False]  ignore this truw\n"
    },
    {
     "output_type": "display_data",
     "data": {
      "text/plain": "<Figure size 432x288 with 1 Axes>",
      "image/svg+xml": "<?xml version=\"1.0\" encoding=\"utf-8\" standalone=\"no\"?>\r\n<!DOCTYPE svg PUBLIC \"-//W3C//DTD SVG 1.1//EN\"\r\n  \"http://www.w3.org/Graphics/SVG/1.1/DTD/svg11.dtd\">\r\n<!-- Created with matplotlib (https://matplotlib.org/) -->\r\n<svg height=\"231.84pt\" version=\"1.1\" viewBox=\"0 0 349.2 231.84\" width=\"349.2pt\" xmlns=\"http://www.w3.org/2000/svg\" xmlns:xlink=\"http://www.w3.org/1999/xlink\">\r\n <metadata>\r\n  <rdf:RDF xmlns:cc=\"http://creativecommons.org/ns#\" xmlns:dc=\"http://purl.org/dc/elements/1.1/\" xmlns:rdf=\"http://www.w3.org/1999/02/22-rdf-syntax-ns#\">\r\n   <cc:Work>\r\n    <dc:type rdf:resource=\"http://purl.org/dc/dcmitype/StillImage\"/>\r\n    <dc:date>2020-08-31T18:25:31.254411</dc:date>\r\n    <dc:format>image/svg+xml</dc:format>\r\n    <dc:creator>\r\n     <cc:Agent>\r\n      <dc:title>Matplotlib v3.3.0, https://matplotlib.org/</dc:title>\r\n     </cc:Agent>\r\n    </dc:creator>\r\n   </cc:Work>\r\n  </rdf:RDF>\r\n </metadata>\r\n <defs>\r\n  <style type=\"text/css\">*{stroke-linecap:butt;stroke-linejoin:round;}</style>\r\n </defs>\r\n <g id=\"figure_1\">\r\n  <g id=\"patch_1\">\r\n   <path d=\"M 0 231.84 \r\nL 349.2 231.84 \r\nL 349.2 0 \r\nL 0 0 \r\nz\r\n\" style=\"fill:none;\"/>\r\n  </g>\r\n  <g id=\"axes_1\">\r\n   <g id=\"line2d_1\">\r\n    <path clip-path=\"url(#p78af5eac25)\" d=\"M 22.418182 224.64 \r\nL 22.418182 7.2 \r\n\" style=\"fill:none;stroke:#808080;stroke-linecap:square;stroke-width:2;\"/>\r\n   </g>\r\n   <g id=\"line2d_2\">\r\n    <path clip-path=\"url(#p78af5eac25)\" d=\"M 47.781818 224.64 \r\nL 47.781818 7.2 \r\n\" style=\"fill:none;stroke:#808080;stroke-linecap:square;stroke-width:2;\"/>\r\n   </g>\r\n   <g id=\"line2d_3\">\r\n    <path clip-path=\"url(#p78af5eac25)\" d=\"M 73.145455 224.64 \r\nL 73.145455 7.2 \r\n\" style=\"fill:none;stroke:#808080;stroke-linecap:square;stroke-width:2;\"/>\r\n   </g>\r\n   <g id=\"line2d_4\">\r\n    <path clip-path=\"url(#p78af5eac25)\" d=\"M 98.509091 224.64 \r\nL 98.509091 7.2 \r\n\" style=\"fill:none;stroke:#808080;stroke-linecap:square;stroke-width:2;\"/>\r\n   </g>\r\n   <g id=\"line2d_5\">\r\n    <path clip-path=\"url(#p78af5eac25)\" d=\"M 123.872727 224.64 \r\nL 123.872727 7.2 \r\n\" style=\"fill:none;stroke:#808080;stroke-linecap:square;stroke-width:2;\"/>\r\n   </g>\r\n   <g id=\"line2d_6\">\r\n    <path clip-path=\"url(#p78af5eac25)\" d=\"M 149.236364 224.64 \r\nL 149.236364 7.2 \r\n\" style=\"fill:none;stroke:#808080;stroke-linecap:square;stroke-width:2;\"/>\r\n   </g>\r\n   <g id=\"line2d_7\">\r\n    <path clip-path=\"url(#p78af5eac25)\" d=\"M 174.6 224.64 \r\nL 174.6 7.2 \r\n\" style=\"fill:none;stroke:#808080;stroke-linecap:square;stroke-width:2;\"/>\r\n   </g>\r\n   <g id=\"line2d_8\">\r\n    <path clip-path=\"url(#p78af5eac25)\" d=\"M 199.963636 224.64 \r\nL 199.963636 7.2 \r\n\" style=\"fill:none;stroke:#808080;stroke-linecap:square;stroke-width:2;\"/>\r\n   </g>\r\n   <g id=\"line2d_9\">\r\n    <path clip-path=\"url(#p78af5eac25)\" d=\"M 225.327273 224.64 \r\nL 225.327273 7.2 \r\n\" style=\"fill:none;stroke:#808080;stroke-linecap:square;stroke-width:2;\"/>\r\n   </g>\r\n   <g id=\"line2d_10\">\r\n    <path clip-path=\"url(#p78af5eac25)\" d=\"M 250.690909 224.64 \r\nL 250.690909 7.2 \r\n\" style=\"fill:none;stroke:#808080;stroke-linecap:square;stroke-width:2;\"/>\r\n   </g>\r\n   <g id=\"line2d_11\">\r\n    <path clip-path=\"url(#p78af5eac25)\" d=\"M 276.054545 224.64 \r\nL 276.054545 7.2 \r\n\" style=\"fill:none;stroke:#808080;stroke-linecap:square;stroke-width:2;\"/>\r\n   </g>\r\n   <g id=\"line2d_12\">\r\n    <path clip-path=\"url(#p78af5eac25)\" d=\"M 301.418182 224.64 \r\nL 301.418182 7.2 \r\n\" style=\"fill:none;stroke:#808080;stroke-linecap:square;stroke-width:2;\"/>\r\n   </g>\r\n   <g id=\"line2d_13\">\r\n    <path clip-path=\"url(#p78af5eac25)\" d=\"M 326.781818 224.64 \r\nL 326.781818 7.2 \r\n\" style=\"fill:none;stroke:#808080;stroke-linecap:square;stroke-width:2;\"/>\r\n   </g>\r\n   <g id=\"line2d_14\">\r\n    <path clip-path=\"url(#p78af5eac25)\" d=\"M 7.2 178.045714 \r\nL 342 178.045714 \r\n\" style=\"fill:none;stroke:#808080;stroke-linecap:square;stroke-width:2;\"/>\r\n   </g>\r\n   <g id=\"line2d_15\">\r\n    <path clip-path=\"url(#p78af5eac25)\" d=\"M 7.2 131.451429 \r\nL 342 131.451429 \r\n\" style=\"fill:none;stroke:#808080;stroke-linecap:square;stroke-width:2;\"/>\r\n   </g>\r\n   <g id=\"line2d_16\">\r\n    <path clip-path=\"url(#p78af5eac25)\" d=\"M 7.2 69.325714 \r\nL 342 69.325714 \r\n\" style=\"fill:none;stroke:#808080;stroke-linecap:square;stroke-width:2;\"/>\r\n   </g>\r\n   <g id=\"line2d_17\">\r\n    <path clip-path=\"url(#p78af5eac25)\" d=\"M 22.418182 38.262857 \r\nL 35.1 38.262857 \r\nL 35.1 69.325714 \r\nL 47.781818 69.325714 \r\nL 47.781818 38.262857 \r\nL 60.463636 38.262857 \r\nL 60.463636 69.325714 \r\nL 73.145455 69.325714 \r\nL 73.145455 38.262857 \r\nL 85.827273 38.262857 \r\nL 85.827273 69.325714 \r\nL 98.509091 69.325714 \r\nL 98.509091 38.262857 \r\nL 111.190909 38.262857 \r\nL 111.190909 69.325714 \r\n\" style=\"fill:none;stroke:#ff0000;stroke-linecap:square;stroke-width:2;\"/>\r\n   </g>\r\n   <g id=\"line2d_18\">\r\n    <path clip-path=\"url(#p78af5eac25)\" d=\"M 22.418182 100.388571 \r\nL 35.1 100.388571 \r\nL 35.1 100.388571 \r\nL 47.781818 100.388571 \r\nL 47.781818 131.451429 \r\nL 60.463636 131.451429 \r\nL 60.463636 131.451429 \r\nL 73.145455 131.451429 \r\nL 73.145455 100.388571 \r\nL 85.827273 100.388571 \r\nL 85.827273 100.388571 \r\nL 98.509091 100.388571 \r\nL 98.509091 100.388571 \r\nL 111.190909 100.388571 \r\nL 111.190909 100.388571 \r\n\" style=\"fill:none;stroke:#ff0000;stroke-linecap:square;stroke-width:2;\"/>\r\n   </g>\r\n   <g id=\"line2d_19\">\r\n    <path clip-path=\"url(#p78af5eac25)\" d=\"M 22.418182 162.514286 \r\nL 35.1 162.514286 \r\nL 35.1 193.577143 \r\nL 47.781818 193.577143 \r\nL 47.781818 162.514286 \r\nL 60.463636 162.514286 \r\nL 60.463636 193.577143 \r\nL 73.145455 193.577143 \r\nL 73.145455 193.577143 \r\nL 85.827273 193.577143 \r\nL 85.827273 162.514286 \r\nL 98.509091 162.514286 \r\nL 98.509091 162.514286 \r\nL 111.190909 162.514286 \r\nL 111.190909 193.577143 \r\n\" style=\"fill:none;stroke:#ff0000;stroke-linecap:square;stroke-width:2;\"/>\r\n   </g>\r\n   <g id=\"text_1\">\r\n    <!-- True -->\r\n    <g transform=\"translate(22.418182 146.982857)scale(0.1 -0.1)\">\r\n     <defs>\r\n      <path d=\"M -0.296875 72.90625 \r\nL 61.375 72.90625 \r\nL 61.375 64.59375 \r\nL 35.5 64.59375 \r\nL 35.5 0 \r\nL 25.59375 0 \r\nL 25.59375 64.59375 \r\nL -0.296875 64.59375 \r\nz\r\n\" id=\"DejaVuSans-84\"/>\r\n      <path d=\"M 41.109375 46.296875 \r\nQ 39.59375 47.171875 37.8125 47.578125 \r\nQ 36.03125 48 33.890625 48 \r\nQ 26.265625 48 22.1875 43.046875 \r\nQ 18.109375 38.09375 18.109375 28.8125 \r\nL 18.109375 0 \r\nL 9.078125 0 \r\nL 9.078125 54.6875 \r\nL 18.109375 54.6875 \r\nL 18.109375 46.1875 \r\nQ 20.953125 51.171875 25.484375 53.578125 \r\nQ 30.03125 56 36.53125 56 \r\nQ 37.453125 56 38.578125 55.875 \r\nQ 39.703125 55.765625 41.0625 55.515625 \r\nz\r\n\" id=\"DejaVuSans-114\"/>\r\n      <path d=\"M 8.5 21.578125 \r\nL 8.5 54.6875 \r\nL 17.484375 54.6875 \r\nL 17.484375 21.921875 \r\nQ 17.484375 14.15625 20.5 10.265625 \r\nQ 23.53125 6.390625 29.59375 6.390625 \r\nQ 36.859375 6.390625 41.078125 11.03125 \r\nQ 45.3125 15.671875 45.3125 23.6875 \r\nL 45.3125 54.6875 \r\nL 54.296875 54.6875 \r\nL 54.296875 0 \r\nL 45.3125 0 \r\nL 45.3125 8.40625 \r\nQ 42.046875 3.421875 37.71875 1 \r\nQ 33.40625 -1.421875 27.6875 -1.421875 \r\nQ 18.265625 -1.421875 13.375 4.4375 \r\nQ 8.5 10.296875 8.5 21.578125 \r\nz\r\nM 31.109375 56 \r\nz\r\n\" id=\"DejaVuSans-117\"/>\r\n      <path d=\"M 56.203125 29.59375 \r\nL 56.203125 25.203125 \r\nL 14.890625 25.203125 \r\nQ 15.484375 15.921875 20.484375 11.0625 \r\nQ 25.484375 6.203125 34.421875 6.203125 \r\nQ 39.59375 6.203125 44.453125 7.46875 \r\nQ 49.3125 8.734375 54.109375 11.28125 \r\nL 54.109375 2.78125 \r\nQ 49.265625 0.734375 44.1875 -0.34375 \r\nQ 39.109375 -1.421875 33.890625 -1.421875 \r\nQ 20.796875 -1.421875 13.15625 6.1875 \r\nQ 5.515625 13.8125 5.515625 26.8125 \r\nQ 5.515625 40.234375 12.765625 48.109375 \r\nQ 20.015625 56 32.328125 56 \r\nQ 43.359375 56 49.78125 48.890625 \r\nQ 56.203125 41.796875 56.203125 29.59375 \r\nz\r\nM 47.21875 32.234375 \r\nQ 47.125 39.59375 43.09375 43.984375 \r\nQ 39.0625 48.390625 32.421875 48.390625 \r\nQ 24.90625 48.390625 20.390625 44.140625 \r\nQ 15.875 39.890625 15.1875 32.171875 \r\nz\r\n\" id=\"DejaVuSans-101\"/>\r\n     </defs>\r\n     <use xlink:href=\"#DejaVuSans-84\"/>\r\n     <use x=\"46.333984\" xlink:href=\"#DejaVuSans-114\"/>\r\n     <use x=\"87.447266\" xlink:href=\"#DejaVuSans-117\"/>\r\n     <use x=\"150.826172\" xlink:href=\"#DejaVuSans-101\"/>\r\n    </g>\r\n   </g>\r\n   <g id=\"text_2\">\r\n    <!-- False -->\r\n    <g transform=\"translate(47.781818 146.982857)scale(0.1 -0.1)\">\r\n     <defs>\r\n      <path d=\"M 9.8125 72.90625 \r\nL 51.703125 72.90625 \r\nL 51.703125 64.59375 \r\nL 19.671875 64.59375 \r\nL 19.671875 43.109375 \r\nL 48.578125 43.109375 \r\nL 48.578125 34.8125 \r\nL 19.671875 34.8125 \r\nL 19.671875 0 \r\nL 9.8125 0 \r\nz\r\n\" id=\"DejaVuSans-70\"/>\r\n      <path d=\"M 34.28125 27.484375 \r\nQ 23.390625 27.484375 19.1875 25 \r\nQ 14.984375 22.515625 14.984375 16.5 \r\nQ 14.984375 11.71875 18.140625 8.90625 \r\nQ 21.296875 6.109375 26.703125 6.109375 \r\nQ 34.1875 6.109375 38.703125 11.40625 \r\nQ 43.21875 16.703125 43.21875 25.484375 \r\nL 43.21875 27.484375 \r\nz\r\nM 52.203125 31.203125 \r\nL 52.203125 0 \r\nL 43.21875 0 \r\nL 43.21875 8.296875 \r\nQ 40.140625 3.328125 35.546875 0.953125 \r\nQ 30.953125 -1.421875 24.3125 -1.421875 \r\nQ 15.921875 -1.421875 10.953125 3.296875 \r\nQ 6 8.015625 6 15.921875 \r\nQ 6 25.140625 12.171875 29.828125 \r\nQ 18.359375 34.515625 30.609375 34.515625 \r\nL 43.21875 34.515625 \r\nL 43.21875 35.40625 \r\nQ 43.21875 41.609375 39.140625 45 \r\nQ 35.0625 48.390625 27.6875 48.390625 \r\nQ 23 48.390625 18.546875 47.265625 \r\nQ 14.109375 46.140625 10.015625 43.890625 \r\nL 10.015625 52.203125 \r\nQ 14.9375 54.109375 19.578125 55.046875 \r\nQ 24.21875 56 28.609375 56 \r\nQ 40.484375 56 46.34375 49.84375 \r\nQ 52.203125 43.703125 52.203125 31.203125 \r\nz\r\n\" id=\"DejaVuSans-97\"/>\r\n      <path d=\"M 9.421875 75.984375 \r\nL 18.40625 75.984375 \r\nL 18.40625 0 \r\nL 9.421875 0 \r\nz\r\n\" id=\"DejaVuSans-108\"/>\r\n      <path d=\"M 44.28125 53.078125 \r\nL 44.28125 44.578125 \r\nQ 40.484375 46.53125 36.375 47.5 \r\nQ 32.28125 48.484375 27.875 48.484375 \r\nQ 21.1875 48.484375 17.84375 46.4375 \r\nQ 14.5 44.390625 14.5 40.28125 \r\nQ 14.5 37.15625 16.890625 35.375 \r\nQ 19.28125 33.59375 26.515625 31.984375 \r\nL 29.59375 31.296875 \r\nQ 39.15625 29.25 43.1875 25.515625 \r\nQ 47.21875 21.78125 47.21875 15.09375 \r\nQ 47.21875 7.46875 41.1875 3.015625 \r\nQ 35.15625 -1.421875 24.609375 -1.421875 \r\nQ 20.21875 -1.421875 15.453125 -0.5625 \r\nQ 10.6875 0.296875 5.421875 2 \r\nL 5.421875 11.28125 \r\nQ 10.40625 8.6875 15.234375 7.390625 \r\nQ 20.0625 6.109375 24.8125 6.109375 \r\nQ 31.15625 6.109375 34.5625 8.28125 \r\nQ 37.984375 10.453125 37.984375 14.40625 \r\nQ 37.984375 18.0625 35.515625 20.015625 \r\nQ 33.0625 21.96875 24.703125 23.78125 \r\nL 21.578125 24.515625 \r\nQ 13.234375 26.265625 9.515625 29.90625 \r\nQ 5.8125 33.546875 5.8125 39.890625 \r\nQ 5.8125 47.609375 11.28125 51.796875 \r\nQ 16.75 56 26.8125 56 \r\nQ 31.78125 56 36.171875 55.265625 \r\nQ 40.578125 54.546875 44.28125 53.078125 \r\nz\r\n\" id=\"DejaVuSans-115\"/>\r\n     </defs>\r\n     <use xlink:href=\"#DejaVuSans-70\"/>\r\n     <use x=\"48.394531\" xlink:href=\"#DejaVuSans-97\"/>\r\n     <use x=\"109.673828\" xlink:href=\"#DejaVuSans-108\"/>\r\n     <use x=\"137.457031\" xlink:href=\"#DejaVuSans-115\"/>\r\n     <use x=\"189.556641\" xlink:href=\"#DejaVuSans-101\"/>\r\n    </g>\r\n   </g>\r\n   <g id=\"text_3\">\r\n    <!-- True -->\r\n    <g transform=\"translate(73.145455 146.982857)scale(0.1 -0.1)\">\r\n     <use xlink:href=\"#DejaVuSans-84\"/>\r\n     <use x=\"46.333984\" xlink:href=\"#DejaVuSans-114\"/>\r\n     <use x=\"87.447266\" xlink:href=\"#DejaVuSans-117\"/>\r\n     <use x=\"150.826172\" xlink:href=\"#DejaVuSans-101\"/>\r\n    </g>\r\n   </g>\r\n   <g id=\"text_4\">\r\n    <!-- True -->\r\n    <g transform=\"translate(98.509091 146.982857)scale(0.1 -0.1)\">\r\n     <use xlink:href=\"#DejaVuSans-84\"/>\r\n     <use x=\"46.333984\" xlink:href=\"#DejaVuSans-114\"/>\r\n     <use x=\"87.447266\" xlink:href=\"#DejaVuSans-117\"/>\r\n     <use x=\"150.826172\" xlink:href=\"#DejaVuSans-101\"/>\r\n    </g>\r\n   </g>\r\n  </g>\r\n </g>\r\n <defs>\r\n  <clipPath id=\"p78af5eac25\">\r\n   <rect height=\"217.44\" width=\"334.8\" x=\"7.2\" y=\"7.2\"/>\r\n  </clipPath>\r\n </defs>\r\n</svg>\r\n",
      "image/png": "[encoded data removed]"
     },
     "metadata": {
      "needs_background": "light"
     }
    }
   ],
   "source": [
    "import matplotlib.pyplot as plt\n",
    "import numpy as np\n",
    "\n",
    "def my_lines(ax, pos, *args, **kwargs):\n",
    "    if ax == 'x':\n",
    "        for p in pos:\n",
    "            plt.axvline(p, *args, **kwargs)\n",
    "    else:\n",
    "        for p in pos:\n",
    "            plt.axhline(p, *args, **kwargs)\n",
    "\n",
    "def manchester(t,data,*args,**kwargs):\n",
    "        print(data,\"data is\")\n",
    "        arr=np.array([],dtype=bool)\n",
    "        temp=[[True,False]]\n",
    "        #bits = np.array(temp)\n",
    "        #inv=np.invert(bits)\n",
    "        #arr=np.array(temp)\n",
    "        #print(np.shape(arr),\"array\",arr)\n",
    "                      # np.array(np.ones((A.shape[0], 1)), dtype=np.bool))))\n",
    "        for i in range(0, len(data)):\n",
    "            if i==0:\n",
    "                print(\"yes 0\")\n",
    "                arr=np.append(arr,temp)\n",
    "            else:\n",
    "\n",
    "                if data[i]==False:\n",
    "                    print(\"False approved\")\n",
    "                    arr=np.append(arr,arr[i-1])\n",
    "                    arr=np.append(arr,arr[i])\n",
    "                    print(arr,\" ignore this false\")\n",
    "                    #arr=np.hstack((arr,False))\n",
    "                if data[i]==True:\n",
    "                    print(\"True approved\")\n",
    "                    inv1=np.invert((np.array(arr[i-1])))\n",
    "                    inv2=np.invert((np.array(arr[i])))\n",
    "\n",
    "                    #print(\"type of inv\",np.shape(inv))\n",
    "                    print(\"invereted\",i,inv1, \"of \",arr[i-1])\n",
    "                    arr=np.append(arr,inv2)\n",
    "                    arr=np.append(arr,inv1)\n",
    "                    print(arr,\" ignore this truw\")\n",
    "\n",
    "                # for j in inv:\n",
    "                    #    arr[i+1].append(j)\n",
    "                    #arr=np.concatenate((arr,inv),1)\n",
    "                    #print(arr,\"true\")\n",
    "                    #arr=np.hstack((arr,True))\n",
    "\n",
    "        t = 0.5 * np.arange(len(arr))\n",
    "        plt.step(t,arr,'r',linewidth=2,where='post')\n",
    "\n",
    "bits = [True,False,True,True]\n",
    "data = np.repeat(bits, 2)\n",
    "clock = 1 - np.arange(len(data)) % 2\n",
    "#manchester = 1 - np.logical_xor(clock, data)\n",
    "t = 0.5 * np.arange(len(data))\n",
    "\n",
    "#plt.hold(True)\n",
    "my_lines('x', range(13), color='.5', linewidth=2)\n",
    "my_lines('y', [0.5, 2, 4], color='.5', linewidth=2)\n",
    "plt.step(t, clock+4, 'r', linewidth = 2, where='post')\n",
    "plt.step(t, data + 2, 'r', linewidth = 2, where='post')\n",
    "manchester(t,bits,'r',linewidth=2,where='post')\n",
    "\n",
    "#plt.step(t, manchester, 'r', linewidth = 2, where='post')\n",
    "plt.ylim([-1,6])\n",
    "\n",
    "for tbit, bit in enumerate(bits):\n",
    "    plt.text(tbit, 1.5, str(bit))\n",
    "\n",
    "plt.gca().axis('off')\n",
    "plt.show()"
   ]
  },
  {
   "cell_type": "code",
   "execution_count": null,
   "metadata": {},
   "outputs": [],
   "source": [
    "This below one is manchhesster coding\n"
   ]
  },
  {
   "cell_type": "code",
   "execution_count": 21,
   "metadata": {
    "tags": []
   },
   "outputs": [
    {
     "output_type": "stream",
     "name": "stdout",
     "text": "False\nTrue\nTrue\nFalse\nFalse\nTrue\nTrue\nFalse\nTrue\nFalse\nFalse\nTrue\n"
    },
    {
     "output_type": "display_data",
     "data": {
      "text/plain": "<Figure size 432x288 with 1 Axes>",
      "image/svg+xml": "<?xml version=\"1.0\" encoding=\"utf-8\" standalone=\"no\"?>\r\n<!DOCTYPE svg PUBLIC \"-//W3C//DTD SVG 1.1//EN\"\r\n  \"http://www.w3.org/Graphics/SVG/1.1/DTD/svg11.dtd\">\r\n<!-- Created with matplotlib (https://matplotlib.org/) -->\r\n<svg height=\"231.84pt\" version=\"1.1\" viewBox=\"0 0 349.2 231.84\" width=\"349.2pt\" xmlns=\"http://www.w3.org/2000/svg\" xmlns:xlink=\"http://www.w3.org/1999/xlink\">\r\n <metadata>\r\n  <rdf:RDF xmlns:cc=\"http://creativecommons.org/ns#\" xmlns:dc=\"http://purl.org/dc/elements/1.1/\" xmlns:rdf=\"http://www.w3.org/1999/02/22-rdf-syntax-ns#\">\r\n   <cc:Work>\r\n    <dc:type rdf:resource=\"http://purl.org/dc/dcmitype/StillImage\"/>\r\n    <dc:date>2020-08-31T00:33:11.987189</dc:date>\r\n    <dc:format>image/svg+xml</dc:format>\r\n    <dc:creator>\r\n     <cc:Agent>\r\n      <dc:title>Matplotlib v3.3.0, https://matplotlib.org/</dc:title>\r\n     </cc:Agent>\r\n    </dc:creator>\r\n   </cc:Work>\r\n  </rdf:RDF>\r\n </metadata>\r\n <defs>\r\n  <style type=\"text/css\">*{stroke-linecap:butt;stroke-linejoin:round;}</style>\r\n </defs>\r\n <g id=\"figure_1\">\r\n  <g id=\"patch_1\">\r\n   <path d=\"M 0 231.84 \r\nL 349.2 231.84 \r\nL 349.2 0 \r\nL 0 0 \r\nz\r\n\" style=\"fill:none;\"/>\r\n  </g>\r\n  <g id=\"axes_1\">\r\n   <g id=\"line2d_1\">\r\n    <path clip-path=\"url(#p9c09cf6768)\" d=\"M 22.418182 224.64 \r\nL 22.418182 7.2 \r\n\" style=\"fill:none;stroke:#808080;stroke-linecap:square;stroke-width:2;\"/>\r\n   </g>\r\n   <g id=\"line2d_2\">\r\n    <path clip-path=\"url(#p9c09cf6768)\" d=\"M 47.781818 224.64 \r\nL 47.781818 7.2 \r\n\" style=\"fill:none;stroke:#808080;stroke-linecap:square;stroke-width:2;\"/>\r\n   </g>\r\n   <g id=\"line2d_3\">\r\n    <path clip-path=\"url(#p9c09cf6768)\" d=\"M 73.145455 224.64 \r\nL 73.145455 7.2 \r\n\" style=\"fill:none;stroke:#808080;stroke-linecap:square;stroke-width:2;\"/>\r\n   </g>\r\n   <g id=\"line2d_4\">\r\n    <path clip-path=\"url(#p9c09cf6768)\" d=\"M 98.509091 224.64 \r\nL 98.509091 7.2 \r\n\" style=\"fill:none;stroke:#808080;stroke-linecap:square;stroke-width:2;\"/>\r\n   </g>\r\n   <g id=\"line2d_5\">\r\n    <path clip-path=\"url(#p9c09cf6768)\" d=\"M 123.872727 224.64 \r\nL 123.872727 7.2 \r\n\" style=\"fill:none;stroke:#808080;stroke-linecap:square;stroke-width:2;\"/>\r\n   </g>\r\n   <g id=\"line2d_6\">\r\n    <path clip-path=\"url(#p9c09cf6768)\" d=\"M 149.236364 224.64 \r\nL 149.236364 7.2 \r\n\" style=\"fill:none;stroke:#808080;stroke-linecap:square;stroke-width:2;\"/>\r\n   </g>\r\n   <g id=\"line2d_7\">\r\n    <path clip-path=\"url(#p9c09cf6768)\" d=\"M 174.6 224.64 \r\nL 174.6 7.2 \r\n\" style=\"fill:none;stroke:#808080;stroke-linecap:square;stroke-width:2;\"/>\r\n   </g>\r\n   <g id=\"line2d_8\">\r\n    <path clip-path=\"url(#p9c09cf6768)\" d=\"M 199.963636 224.64 \r\nL 199.963636 7.2 \r\n\" style=\"fill:none;stroke:#808080;stroke-linecap:square;stroke-width:2;\"/>\r\n   </g>\r\n   <g id=\"line2d_9\">\r\n    <path clip-path=\"url(#p9c09cf6768)\" d=\"M 225.327273 224.64 \r\nL 225.327273 7.2 \r\n\" style=\"fill:none;stroke:#808080;stroke-linecap:square;stroke-width:2;\"/>\r\n   </g>\r\n   <g id=\"line2d_10\">\r\n    <path clip-path=\"url(#p9c09cf6768)\" d=\"M 250.690909 224.64 \r\nL 250.690909 7.2 \r\n\" style=\"fill:none;stroke:#808080;stroke-linecap:square;stroke-width:2;\"/>\r\n   </g>\r\n   <g id=\"line2d_11\">\r\n    <path clip-path=\"url(#p9c09cf6768)\" d=\"M 276.054545 224.64 \r\nL 276.054545 7.2 \r\n\" style=\"fill:none;stroke:#808080;stroke-linecap:square;stroke-width:2;\"/>\r\n   </g>\r\n   <g id=\"line2d_12\">\r\n    <path clip-path=\"url(#p9c09cf6768)\" d=\"M 301.418182 224.64 \r\nL 301.418182 7.2 \r\n\" style=\"fill:none;stroke:#808080;stroke-linecap:square;stroke-width:2;\"/>\r\n   </g>\r\n   <g id=\"line2d_13\">\r\n    <path clip-path=\"url(#p9c09cf6768)\" d=\"M 326.781818 224.64 \r\nL 326.781818 7.2 \r\n\" style=\"fill:none;stroke:#808080;stroke-linecap:square;stroke-width:2;\"/>\r\n   </g>\r\n   <g id=\"line2d_14\">\r\n    <path clip-path=\"url(#p9c09cf6768)\" d=\"M 7.2 178.045714 \r\nL 342 178.045714 \r\n\" style=\"fill:none;stroke:#808080;stroke-linecap:square;stroke-width:2;\"/>\r\n   </g>\r\n   <g id=\"line2d_15\">\r\n    <path clip-path=\"url(#p9c09cf6768)\" d=\"M 7.2 131.451429 \r\nL 342 131.451429 \r\n\" style=\"fill:none;stroke:#808080;stroke-linecap:square;stroke-width:2;\"/>\r\n   </g>\r\n   <g id=\"line2d_16\">\r\n    <path clip-path=\"url(#p9c09cf6768)\" d=\"M 7.2 69.325714 \r\nL 342 69.325714 \r\n\" style=\"fill:none;stroke:#808080;stroke-linecap:square;stroke-width:2;\"/>\r\n   </g>\r\n   <g id=\"line2d_17\">\r\n    <path clip-path=\"url(#p9c09cf6768)\" d=\"M 22.418182 38.262857 \r\nL 35.1 38.262857 \r\nL 35.1 69.325714 \r\nL 47.781818 69.325714 \r\nL 47.781818 38.262857 \r\nL 60.463636 38.262857 \r\nL 60.463636 69.325714 \r\nL 73.145455 69.325714 \r\nL 73.145455 38.262857 \r\nL 85.827273 38.262857 \r\nL 85.827273 69.325714 \r\nL 98.509091 69.325714 \r\nL 98.509091 38.262857 \r\nL 111.190909 38.262857 \r\nL 111.190909 69.325714 \r\nL 123.872727 69.325714 \r\nL 123.872727 38.262857 \r\nL 136.554545 38.262857 \r\nL 136.554545 69.325714 \r\nL 149.236364 69.325714 \r\nL 149.236364 38.262857 \r\nL 161.918182 38.262857 \r\nL 161.918182 69.325714 \r\n\" style=\"fill:none;stroke:#ff0000;stroke-linecap:square;stroke-width:2;\"/>\r\n   </g>\r\n   <g id=\"line2d_18\">\r\n    <path clip-path=\"url(#p9c09cf6768)\" d=\"M 22.418182 100.388571 \r\nL 35.1 100.388571 \r\nL 35.1 100.388571 \r\nL 47.781818 100.388571 \r\nL 47.781818 131.451429 \r\nL 60.463636 131.451429 \r\nL 60.463636 131.451429 \r\nL 73.145455 131.451429 \r\nL 73.145455 100.388571 \r\nL 85.827273 100.388571 \r\nL 85.827273 100.388571 \r\nL 98.509091 100.388571 \r\nL 98.509091 131.451429 \r\nL 111.190909 131.451429 \r\nL 111.190909 131.451429 \r\nL 123.872727 131.451429 \r\nL 123.872727 131.451429 \r\nL 136.554545 131.451429 \r\nL 136.554545 131.451429 \r\nL 149.236364 131.451429 \r\nL 149.236364 100.388571 \r\nL 161.918182 100.388571 \r\nL 161.918182 100.388571 \r\n\" style=\"fill:none;stroke:#ff0000;stroke-linecap:square;stroke-width:2;\"/>\r\n   </g>\r\n   <g id=\"line2d_19\">\r\n    <path clip-path=\"url(#p9c09cf6768)\" d=\"M 22.418182 193.577143 \r\nL 35.1 193.577143 \r\nL 35.1 162.514286 \r\nL 47.781818 162.514286 \r\nL 47.781818 162.514286 \r\nL 60.463636 162.514286 \r\nL 60.463636 193.577143 \r\nL 73.145455 193.577143 \r\nL 73.145455 193.577143 \r\nL 85.827273 193.577143 \r\nL 85.827273 162.514286 \r\nL 98.509091 162.514286 \r\nL 98.509091 162.514286 \r\nL 111.190909 162.514286 \r\nL 111.190909 193.577143 \r\nL 123.872727 193.577143 \r\nL 123.872727 162.514286 \r\nL 136.554545 162.514286 \r\nL 136.554545 193.577143 \r\nL 149.236364 193.577143 \r\nL 149.236364 193.577143 \r\nL 161.918182 193.577143 \r\nL 161.918182 162.514286 \r\n\" style=\"fill:none;stroke:#ff0000;stroke-linecap:square;stroke-width:2;\"/>\r\n   </g>\r\n   <g id=\"text_1\">\r\n    <!-- 1 -->\r\n    <g transform=\"translate(35.1 146.982857)scale(0.1 -0.1)\">\r\n     <defs>\r\n      <path d=\"M 12.40625 8.296875 \r\nL 28.515625 8.296875 \r\nL 28.515625 63.921875 \r\nL 10.984375 60.40625 \r\nL 10.984375 69.390625 \r\nL 28.421875 72.90625 \r\nL 38.28125 72.90625 \r\nL 38.28125 8.296875 \r\nL 54.390625 8.296875 \r\nL 54.390625 0 \r\nL 12.40625 0 \r\nz\r\n\" id=\"DejaVuSans-49\"/>\r\n     </defs>\r\n     <use xlink:href=\"#DejaVuSans-49\"/>\r\n    </g>\r\n   </g>\r\n   <g id=\"text_2\">\r\n    <!-- 0 -->\r\n    <g transform=\"translate(60.463636 146.982857)scale(0.1 -0.1)\">\r\n     <defs>\r\n      <path d=\"M 31.78125 66.40625 \r\nQ 24.171875 66.40625 20.328125 58.90625 \r\nQ 16.5 51.421875 16.5 36.375 \r\nQ 16.5 21.390625 20.328125 13.890625 \r\nQ 24.171875 6.390625 31.78125 6.390625 \r\nQ 39.453125 6.390625 43.28125 13.890625 \r\nQ 47.125 21.390625 47.125 36.375 \r\nQ 47.125 51.421875 43.28125 58.90625 \r\nQ 39.453125 66.40625 31.78125 66.40625 \r\nz\r\nM 31.78125 74.21875 \r\nQ 44.046875 74.21875 50.515625 64.515625 \r\nQ 56.984375 54.828125 56.984375 36.375 \r\nQ 56.984375 17.96875 50.515625 8.265625 \r\nQ 44.046875 -1.421875 31.78125 -1.421875 \r\nQ 19.53125 -1.421875 13.0625 8.265625 \r\nQ 6.59375 17.96875 6.59375 36.375 \r\nQ 6.59375 54.828125 13.0625 64.515625 \r\nQ 19.53125 74.21875 31.78125 74.21875 \r\nz\r\n\" id=\"DejaVuSans-48\"/>\r\n     </defs>\r\n     <use xlink:href=\"#DejaVuSans-48\"/>\r\n    </g>\r\n   </g>\r\n   <g id=\"text_3\">\r\n    <!-- 1 -->\r\n    <g transform=\"translate(85.827273 146.982857)scale(0.1 -0.1)\">\r\n     <use xlink:href=\"#DejaVuSans-49\"/>\r\n    </g>\r\n   </g>\r\n   <g id=\"text_4\">\r\n    <!-- 0 -->\r\n    <g transform=\"translate(111.190909 146.982857)scale(0.1 -0.1)\">\r\n     <use xlink:href=\"#DejaVuSans-48\"/>\r\n    </g>\r\n   </g>\r\n   <g id=\"text_5\">\r\n    <!-- 0 -->\r\n    <g transform=\"translate(136.554545 146.982857)scale(0.1 -0.1)\">\r\n     <use xlink:href=\"#DejaVuSans-48\"/>\r\n    </g>\r\n   </g>\r\n   <g id=\"text_6\">\r\n    <!-- 1 -->\r\n    <g transform=\"translate(161.918182 146.982857)scale(0.1 -0.1)\">\r\n     <use xlink:href=\"#DejaVuSans-49\"/>\r\n    </g>\r\n   </g>\r\n  </g>\r\n </g>\r\n <defs>\r\n  <clipPath id=\"p9c09cf6768\">\r\n   <rect height=\"217.44\" width=\"334.8\" x=\"7.2\" y=\"7.2\"/>\r\n  </clipPath>\r\n </defs>\r\n</svg>\r\n",
      "image/png": "[encoded data removed]"
     },
     "metadata": {
      "needs_background": "light"
     }
    }
   ],
   "source": [
    "\n",
    "def my_lines(ax, pos, *args, **kwargs):\n",
    "    if ax == 'x':\n",
    "        for p in pos:\n",
    "            plt.axvline(p, *args, **kwargs)\n",
    "    else:\n",
    "        for p in pos:\n",
    "            plt.axhline(p, *args, **kwargs)\n",
    "\n",
    "bits = [1,0,1,0,0,1]\n",
    "data = np.repeat(bits, 2)\n",
    "clock = 1 - np.arange(len(data)) % 2\n",
    "manchester =np.logical_xor(clock, data)\n",
    "t = 0.5 * np.arange(len(data))\n",
    "\n",
    "for i in manchester:\n",
    "    print(i)\n",
    "#plt.hold(True)\n",
    "my_lines('x', range(13), color='.5', linewidth=2)\n",
    "my_lines('y', [0.5, 2, 4], color='.5', linewidth=2)\n",
    "plt.step(t, clock+4 , 'r', linewidth = 2, where='post')\n",
    "plt.step(t, data+2 , 'r', linewidth = 2, where='post')\n",
    "plt.step(t, manchester, 'r', linewidth = 2, where='post')\n",
    "plt.ylim([-1,6])\n",
    "\n",
    "for tbit, bit in enumerate(bits):\n",
    "    plt.text(tbit + 0.5, 1.5, str(bit))\n",
    "\n",
    "plt.gca().axis('off')\n",
    "plt.show()"
   ]
  },
  {
   "cell_type": "code",
   "execution_count": null,
   "metadata": {},
   "outputs": [],
   "source": []
  }
 ]
}