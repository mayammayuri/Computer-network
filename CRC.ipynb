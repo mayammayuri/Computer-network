{
 "metadata": {
  "language_info": {
   "codemirror_mode": {
    "name": "ipython",
    "version": 3
   },
   "file_extension": ".py",
   "mimetype": "text/x-python",
   "name": "python",
   "nbconvert_exporter": "python",
   "pygments_lexer": "ipython3",
   "version": "3.8.3-final"
  },
  "orig_nbformat": 2,
  "kernelspec": {
   "name": "python_defaultSpec_1600078563440",
   "display_name": "Python 3.8.3 64-bit"
  }
 },
 "nbformat": 4,
 "nbformat_minor": 2,
 "cells": [
  {
   "cell_type": "code",
   "execution_count": 16,
   "metadata": {
    "tags": []
   },
   "outputs": [
    {
     "output_type": "stream",
     "name": "stdout",
     "text": "dataword is 10011101\ndivisor is 1001\nRemainder: 100\nCodeword : 10011101100\nCodeword  is [1, 0, 0, 1, 1, 1, 0, 1, 1, 0, 0]\nreceived seuqnce [1, 0, 0, 1, 1, 1, 0, 1, 1, 0, 0]\nThe information is correct\n"
    },
    {
     "output_type": "execute_result",
     "data": {
      "text/plain": "True"
     },
     "metadata": {},
     "execution_count": 16
    }
   ],
   "source": [
    "from math import log, ceil \n",
    "import collections \n",
    "  \n",
    "def CRC_sender(dataword, generator): \n",
    "    dword = int(dataword, 2) \n",
    "    l_gen = len(generator) \n",
    "    dividend = dword<<(l_gen - 1)     \n",
    "    shft = ceil(log(dividend + 1, 2)) - l_gen      \n",
    "    generator = int(generator, 2) \n",
    "    while dividend >= generator or shft >= 0: #divison is happening here\n",
    "        \n",
    "        rem = (dividend >> shft) ^ generator     \n",
    "        dividend = (dividend & ((1 << shft) - 1)) | (rem << shft)  \n",
    "        shft = ceil(log(dividend+1, 2)) - l_gen \n",
    "    codeword = dword << (l_gen-1)|dividend \n",
    "    code=bin(codeword).lstrip(\"-0b\")\n",
    "    divisor=bin(dividend).lstrip(\"-0b\")\n",
    "    print(\"Remainder:\", divisor) \n",
    "    print(\"Codeword :\", code) \n",
    "    return code\n",
    "\n",
    "def CRC_receiver(code):\n",
    "    codeword = [int(x) for x in str(code)]\n",
    "    print(\"Codeword  is\",codeword)\n",
    " \n",
    "    data=int(input(\"Enter the received binary sequency\"))\n",
    "    rec_data= [int(x) for x in str(data)]\n",
    "\n",
    "    print(\"received seuqnce\",rec_data)\n",
    "    if collections.Counter(codeword) == collections.Counter(rec_data):\n",
    "        print (\"The information is correct\") \n",
    "        return True\n",
    "    else: \n",
    "        print (\"discarded information\") \n",
    "        return False \n",
    "dataword=input(\"Enter the dataword\")\n",
    "print(\"dataword is\",dataword)\n",
    "#dataword = \"10011101\"\n",
    "divisor=input(\"Enter the divisor\")\n",
    "print(\"divisor is\",divisor)\n",
    "#generator = \"1001\"\n",
    "result=CRC_sender(dataword, divisor)\n",
    "CRC_receiver(result)"
   ]
  },
  {
   "cell_type": "code",
   "execution_count": null,
   "metadata": {},
   "outputs": [],
   "source": []
  }
 ]
}